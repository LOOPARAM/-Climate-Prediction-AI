{
 "cells": [
  {
   "cell_type": "code",
   "execution_count": 1,
   "metadata": {},
   "outputs": [],
   "source": [
    "import numpy as np\n",
    "import matplotlib.pyplot as plt"
   ]
  },
  {
   "cell_type": "code",
   "execution_count": 2,
   "metadata": {},
   "outputs": [],
   "source": [
    "data_2410 = np.load(\"data/data_/data_2410.npy\")"
   ]
  },
  {
   "cell_type": "code",
   "execution_count": 3,
   "metadata": {},
   "outputs": [],
   "source": [
    "a = np.random.randn(715,4,4,4)"
   ]
  },
  {
   "cell_type": "code",
   "execution_count": 4,
   "metadata": {},
   "outputs": [],
   "source": [
    "def split_images(image_files, p=15, input_length=14):\n",
    "    input_images = []\n",
    "    output_images = []\n",
    "    r = len(image_files)//p if(len(image_files)%p==0) else len(image_files)//p + 1\n",
    "    for repeats in range(r):\n",
    "        # rp 배열에 p단위수로 끊어서 넣기\n",
    "        i_rp = image_files[:p][:input_length]\n",
    "        o_rp = image_files[:p][input_length:]\n",
    "        # 기존 배열에서 앞부분은 삭제하면서 당기기\n",
    "        image_files = image_files[p:]\n",
    "        # 배열에 삽입 해버렷\n",
    "        input_images.append(i_rp)\n",
    "        output_images.append(o_rp)\n",
    "        # 버렷!\n",
    "        if len(image_files) < p:\n",
    "            break\n",
    "    # 넘파이 배열로 전환 후 내보내기\n",
    "    return np.array(input_images), np.array(output_images)"
   ]
  },
  {
   "cell_type": "code",
   "execution_count": 5,
   "metadata": {},
   "outputs": [],
   "source": [
    "input, output = split_images(data_2410)"
   ]
  },
  {
   "cell_type": "code",
   "execution_count": 7,
   "metadata": {},
   "outputs": [
    {
     "data": {
      "text/plain": [
       "((47, 14, 850, 850, 4), (47, 1, 850, 850, 4))"
      ]
     },
     "execution_count": 7,
     "metadata": {},
     "output_type": "execute_result"
    }
   ],
   "source": [
    "input.shape, output.shape"
   ]
  },
  {
   "cell_type": "code",
   "execution_count": 8,
   "metadata": {},
   "outputs": [],
   "source": [
    "np.save(\"data/data_/data_2410_input\",input)\n",
    "np.save(\"data/data_/data_2410_output\",output)"
   ]
  },
  {
   "cell_type": "code",
   "execution_count": null,
   "metadata": {},
   "outputs": [],
   "source": []
  }
 ],
 "metadata": {
  "kernelspec": {
   "display_name": "AF",
   "language": "python",
   "name": "python3"
  },
  "language_info": {
   "codemirror_mode": {
    "name": "ipython",
    "version": 3
   },
   "file_extension": ".py",
   "mimetype": "text/x-python",
   "name": "python",
   "nbconvert_exporter": "python",
   "pygments_lexer": "ipython3",
   "version": "3.10.14"
  }
 },
 "nbformat": 4,
 "nbformat_minor": 2
}
