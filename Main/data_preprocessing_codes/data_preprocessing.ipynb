{
 "cells": [
  {
   "cell_type": "code",
   "execution_count": 3,
   "metadata": {},
   "outputs": [],
   "source": [
    "import numpy as np\n",
    "import data_preprocessing as dpp\n",
    "import os"
   ]
  },
  {
   "cell_type": "markdown",
   "metadata": {},
   "source": [
    "# 전체 데이터셋 불러오기"
   ]
  },
  {
   "cell_type": "code",
   "execution_count": 1,
   "metadata": {},
   "outputs": [],
   "source": [
    "image_folder = '../data/raw_data'"
   ]
  },
  {
   "cell_type": "code",
   "execution_count": 4,
   "metadata": {},
   "outputs": [
    {
     "data": {
      "text/plain": [
       "21445"
      ]
     },
     "execution_count": 4,
     "metadata": {},
     "output_type": "execute_result"
    }
   ],
   "source": [
    "image_files = os.listdir(image_folder)\n",
    "len(image_files)"
   ]
  },
  {
   "cell_type": "markdown",
   "metadata": {},
   "source": [
    "# 행복 끝, 노가다 시작"
   ]
  },
  {
   "cell_type": "markdown",
   "metadata": {},
   "source": [
    "## 11/22"
   ]
  },
  {
   "cell_type": "code",
   "execution_count": 1,
   "metadata": {},
   "outputs": [],
   "source": [
    "# 11/22\n",
    "img_tensors = dpp.preprocess_images(image_folder, (850, 850), 0, 715)\n",
    "np.save('../data/refined_data/trainData/2m/trainData_1122_850_2m', img_tensors)"
   ]
  },
  {
   "cell_type": "code",
   "execution_count": null,
   "metadata": {},
   "outputs": [],
   "source": [
    "img_tensors2 = np.load('../data/refined_data/trainData/2m/trainData_1122_850_2m')\n",
    "img_tensors2 = dpp.resize_images(img_tensors2)\n",
    "np.save('../data/refined_data/trainData/2m/trainData_1122_40_2m', img_tensors2)"
   ]
  },
  {
   "cell_type": "markdown",
   "metadata": {},
   "source": [
    "## 11/23"
   ]
  },
  {
   "cell_type": "code",
   "execution_count": 3,
   "metadata": {},
   "outputs": [],
   "source": [
    "# 11/23\n",
    "img_tensors = dpp.preprocess_images(image_folder, (850, 850), 715, 715*2)\n",
    "np.save('../data/refined_data/trainData/2m/trainData_1123_850_2m', img_tensors)"
   ]
  },
  {
   "cell_type": "code",
   "execution_count": null,
   "metadata": {},
   "outputs": [],
   "source": [
    "img_tensors2 = np.load('../data/refined_data/trainData/2m/trainData_1123_850_2m')\n",
    "img_tensors2 = dpp.resize_images(img_tensors2)\n",
    "np.save('../data/refined_data/trainData/2m/trainData_1123_40_2m', img_tensors2)"
   ]
  },
  {
   "cell_type": "markdown",
   "metadata": {},
   "source": [
    "## 11/24"
   ]
  },
  {
   "cell_type": "code",
   "execution_count": 4,
   "metadata": {},
   "outputs": [],
   "source": [
    "# 11/24\n",
    "img_tensors = dpp.preprocess_images(image_folder, (850, 850), 715*2, 715*3)\n",
    "np.save('../data/refined_data/trainData/2m/trainData_1124_850_2m', img_tensors)"
   ]
  },
  {
   "cell_type": "code",
   "execution_count": null,
   "metadata": {},
   "outputs": [],
   "source": [
    "img_tensors2 = np.load('../data/refined_data/trainData/2m/trainData_1124_850_2m')\n",
    "img_tensors2 = dpp.resize_images(img_tensors2)\n",
    "np.save('../data/refined_data/trainData/2m/trainData_1124_40_2m', img_tensors2)"
   ]
  },
  {
   "cell_type": "markdown",
   "metadata": {},
   "source": [
    "## 11/25"
   ]
  },
  {
   "cell_type": "code",
   "execution_count": 5,
   "metadata": {},
   "outputs": [],
   "source": [
    "# 11/25\n",
    "img_tensors = dpp.preprocess_images(image_folder, (850, 850), 715*3, 715*4)\n",
    "np.save('../data/refined_data/trainData/2m/trainData_1125_850_2m', img_tensors)"
   ]
  },
  {
   "cell_type": "code",
   "execution_count": null,
   "metadata": {},
   "outputs": [],
   "source": [
    "img_tensors2 = np.load('../data/refined_data/trainData/2m/trainData_1125_850_2m')\n",
    "img_tensors2 = dpp.resize_images(img_tensors2)\n",
    "np.save('../data/refined_data/trainData/2m/trainData_1125_40_2m', img_tensors2)"
   ]
  },
  {
   "cell_type": "markdown",
   "metadata": {},
   "source": [
    "## 11/26"
   ]
  },
  {
   "cell_type": "code",
   "execution_count": 6,
   "metadata": {},
   "outputs": [],
   "source": [
    "# 11/26\n",
    "img_tensors = dpp.preprocess_images(image_folder, (850, 850), 715*4, 715*5)\n",
    "np.save('../data/refined_data/trainData/2m/trainData_1126_850_2m', img_tensors)"
   ]
  },
  {
   "cell_type": "code",
   "execution_count": null,
   "metadata": {},
   "outputs": [],
   "source": [
    "img_tensors2 = np.load('../data/refined_data/trainData/2m/trainData_1126_850_2m')\n",
    "img_tensors2 = dpp.resize_images(img_tensors2)\n",
    "np.save('../data/refined_data/trainData/2m/trainData_1126_40_2m', img_tensors2)"
   ]
  },
  {
   "cell_type": "markdown",
   "metadata": {},
   "source": [
    "## 11/27"
   ]
  },
  {
   "cell_type": "code",
   "execution_count": 7,
   "metadata": {},
   "outputs": [],
   "source": [
    "# 11/27\n",
    "img_tensors = dpp.preprocess_images(image_folder, (850, 850), 715*5, 715*6)\n",
    "np.save('../data/refined_data/trainData/2m/trainData_1127_850_2m', img_tensors)"
   ]
  },
  {
   "cell_type": "code",
   "execution_count": null,
   "metadata": {},
   "outputs": [],
   "source": [
    "img_tensors2 = np.load('../data/refined_data/trainData/2m/trainData_1127_850_2m')\n",
    "img_tensors2 = dpp.resize_images(img_tensors2)\n",
    "np.save('../data/refined_data/trainData/2m/trainData_1127_40_2m', img_tensors2)"
   ]
  },
  {
   "cell_type": "markdown",
   "metadata": {},
   "source": [
    "## 11/28"
   ]
  },
  {
   "cell_type": "code",
   "execution_count": 8,
   "metadata": {},
   "outputs": [],
   "source": [
    "# 11/28\n",
    "img_tensors = dpp.preprocess_images(image_folder, (850, 850), 715*6, 715*7)\n",
    "np.save('../data/refined_data/trainData/2m/trainData_1128_850_2m', img_tensors)"
   ]
  },
  {
   "cell_type": "code",
   "execution_count": null,
   "metadata": {},
   "outputs": [],
   "source": [
    "img_tensors2 = np.load('../data/refined_data/trainData/2m/trainData_1128_850_2m')\n",
    "img_tensors2 = dpp.resize_images(img_tensors2)\n",
    "np.save('../data/refined_data/trainData/2m/trainData_1128_40_2m', img_tensors2)"
   ]
  },
  {
   "cell_type": "markdown",
   "metadata": {},
   "source": [
    "## 11/29"
   ]
  },
  {
   "cell_type": "code",
   "execution_count": 9,
   "metadata": {},
   "outputs": [],
   "source": [
    "# 11/29\n",
    "img_tensors = dpp.preprocess_images(image_folder, (850, 850), 715*7, 715*8)\n",
    "np.save('../data/refined_data/trainData/2m/trainData_1129_850_2m', img_tensors)"
   ]
  },
  {
   "cell_type": "code",
   "execution_count": null,
   "metadata": {},
   "outputs": [],
   "source": [
    "img_tensors2 = np.load('../data/refined_data/trainData/2m/trainData_1129_850_2m')\n",
    "img_tensors2 = dpp.resize_images(img_tensors2)\n",
    "np.save('../data/refined_data/trainData/2m/trainData_1129_40_2m', img_tensors2)"
   ]
  },
  {
   "cell_type": "markdown",
   "metadata": {},
   "source": [
    "## 11/30"
   ]
  },
  {
   "cell_type": "code",
   "execution_count": 2,
   "metadata": {},
   "outputs": [],
   "source": [
    "# 11/30\n",
    "img_tensors = dpp.preprocess_images(image_folder, (850, 850), 715*8, 715*9)\n",
    "np.save('../data/refined_data/trainData/2m/trainData_1130_850_2m', img_tensors)"
   ]
  },
  {
   "cell_type": "code",
   "execution_count": null,
   "metadata": {},
   "outputs": [],
   "source": [
    "img_tensors2 = np.load('../data/refined_data/trainData/2m/trainData_1130_850_2m')\n",
    "img_tensors2 = dpp.resize_images(img_tensors2)\n",
    "np.save('../data/refined_data/trainData/2m/trainData_1130_40_2m', img_tensors2)"
   ]
  },
  {
   "cell_type": "markdown",
   "metadata": {},
   "source": [
    "# 40 x 40 수합"
   ]
  },
  {
   "cell_type": "code",
   "execution_count": null,
   "metadata": {},
   "outputs": [],
   "source": [
    "from Main.data_preprocessing_codes.data_preprocessing import merge_40x40\n",
    "\n",
    "\n",
    "merged_list = dpp.merge_40x40()\n",
    "np.save('../data/refined_data/trainData/2m/trainData_1122~1130_40_2m', merged_list)"
   ]
  },
  {
   "cell_type": "markdown",
   "metadata": {},
   "source": [
    "# 마지막, 1h 단위로 끊기"
   ]
  },
  {
   "cell_type": "code",
   "execution_count": null,
   "metadata": {},
   "outputs": [],
   "source": [
    "집가고싶다 = np.load('../data/refined_data/trainData/2m/trainData_1122~1130_40_2m')\n",
    "final_data = dpp.splitImgs_with_Nhours(집가고싶다, 30)\n",
    "np.save('../data/refined_data/trainData/1h/trainData_1122~1130_40_1h')"
   ]
  }
 ],
 "metadata": {
  "kernelspec": {
   "display_name": "ssgVenv",
   "language": "python",
   "name": "python3"
  },
  "language_info": {
   "codemirror_mode": {
    "name": "ipython",
    "version": 3
   },
   "file_extension": ".py",
   "mimetype": "text/x-python",
   "name": "python",
   "nbconvert_exporter": "python",
   "pygments_lexer": "ipython3",
   "version": "3.12.6"
  }
 },
 "nbformat": 4,
 "nbformat_minor": 2
}
