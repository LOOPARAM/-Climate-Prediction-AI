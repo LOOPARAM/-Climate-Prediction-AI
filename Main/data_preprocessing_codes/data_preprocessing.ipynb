{
 "cells": [
  {
   "cell_type": "code",
   "execution_count": 1,
   "metadata": {},
   "outputs": [],
   "source": [
    "import numpy as np\n",
    "import matplotlib.pyplot as plt\n",
    "import tensorflow as tf"
   ]
  },
  {
   "cell_type": "markdown",
   "metadata": {},
   "source": [
    "# 전체 데이터셋 불러오기"
   ]
  },
  {
   "cell_type": "code",
   "execution_count": 3,
   "metadata": {},
   "outputs": [],
   "source": [
    "data_2403 = np.load(\"../data/data_/data_2403.npy\")"
   ]
  },
  {
   "cell_type": "markdown",
   "metadata": {},
   "source": [
    "# 이미지 전처리 알고리즘"
   ]
  },
  {
   "cell_type": "markdown",
   "metadata": {},
   "source": [
    "이미지 나누기"
   ]
  },
  {
   "cell_type": "code",
   "execution_count": 2,
   "metadata": {},
   "outputs": [],
   "source": [
    "def split_images(image_files, p=15, input_length=14):\n",
    "    input_images = []\n",
    "    output_images = []\n",
    "    r = len(image_files)//p if(len(image_files)%p==0) else len(image_files)//p + 1\n",
    "    for repeats in range(r):\n",
    "        # rp 배열에 p단위수로 끊어서 넣기\n",
    "        i_rp = image_files[:p][:input_length]\n",
    "        o_rp = image_files[:p][input_length:]\n",
    "        # 기존 배열에서 앞부분은 삭제하면서 당기기\n",
    "        image_files = image_files[p:]\n",
    "        # 배열에 삽입 해버렷\n",
    "        input_images.append(i_rp)\n",
    "        output_images.append(o_rp)\n",
    "        # 버렷!\n",
    "        if len(image_files) < p:\n",
    "            break\n",
    "    # 넘파이 배열로 전환 후 내보내기\n",
    "    return np.array(input_images), np.array(output_images)"
   ]
  },
  {
   "cell_type": "markdown",
   "metadata": {},
   "source": [
    "이미지 리사이즈"
   ]
  },
  {
   "cell_type": "code",
   "execution_count": 4,
   "metadata": {},
   "outputs": [],
   "source": [
    "def resize_images(dataset, target_size):\n",
    "    resized_dataset = tf.image.resize(dataset, target_size, method='bilinear')\n",
    "    return resized_dataset"
   ]
  },
  {
   "cell_type": "markdown",
   "metadata": {},
   "source": [
    "# 본격적인 이미지 전처리 후 저장"
   ]
  },
  {
   "cell_type": "markdown",
   "metadata": {},
   "source": [
    "쪼개기1"
   ]
  },
  {
   "cell_type": "code",
   "execution_count": 5,
   "metadata": {},
   "outputs": [],
   "source": [
    "np.save(\"../data/data_/data_2403_300\",resize_images(data_2403[:300], (40,40)))"
   ]
  },
  {
   "cell_type": "markdown",
   "metadata": {},
   "source": [
    "쪼개기2"
   ]
  },
  {
   "cell_type": "code",
   "execution_count": 6,
   "metadata": {},
   "outputs": [],
   "source": [
    "np.save(\"../data/data_/data_2403_715\",resize_images(data_2403[300:], (40,40)))"
   ]
  },
  {
   "cell_type": "markdown",
   "metadata": {},
   "source": [
    "쪼갠 거 합친 후 다시 입력 출력으로 나누기"
   ]
  },
  {
   "cell_type": "code",
   "execution_count": 13,
   "metadata": {},
   "outputs": [
    {
     "name": "stdout",
     "output_type": "stream",
     "text": [
      "(47, 14, 40, 40, 4) (47, 1, 40, 40, 4)\n"
     ]
    }
   ],
   "source": [
    "a = \"15\"\n",
    "data_300 = np.load(\"data/data_/data_24\"+a+\"_300.npy\")\n",
    "data_715 = np.load(\"data/data_/data_24\"+a+\"_715.npy\")\n",
    "data_ = np.concatenate((data_300, data_715), axis=0)\n",
    "inputs, outputs = split_images(data_)\n",
    "print(inputs.shape, outputs.shape)\n",
    "np.save(\"data/data_/data_24\"+a+\"_input\",inputs)\n",
    "np.save(\"data/data_/data_24\"+a+\"_output\",outputs)"
   ]
  },
  {
   "cell_type": "code",
   "execution_count": 22,
   "metadata": {},
   "outputs": [
    {
     "data": {
      "text/plain": [
       "(141, 14, 40, 40, 4)"
      ]
     },
     "execution_count": 22,
     "metadata": {},
     "output_type": "execute_result"
    }
   ],
   "source": [
    "input = np.load(\"data/data_/data_2404_input.npy\")\n",
    "output = np.load(\"data/data_/data_2404_output.npy\")\n",
    "input1 = np.load(\"data/data_/data_2405_input.npy\")\n",
    "output1 = np.load(\"data/data_/data_2405_output.npy\")\n",
    "input2 = np.load(\"data/data_/data_2406_input.npy\")\n",
    "data_ = np.concatenate((input, input1, input2), axis=0)\n",
    "data_.shape"
   ]
  },
  {
   "cell_type": "code",
   "execution_count": 39,
   "metadata": {},
   "outputs": [
    {
     "name": "stdout",
     "output_type": "stream",
     "text": [
      "(564, 14, 40, 40, 4) (564, 1, 40, 40, 4)\n"
     ]
    }
   ],
   "source": [
    "inputs = np.zeros((0,14,40,40,4))\n",
    "outputs = np.zeros((0,1,40,40,4))\n",
    "for i in range(12):\n",
    "    a = \"0\"+str(i+4) if((i+4)<10) else str(i+4)\n",
    "    input = np.load(\"data/data_/data_24\"+a+\"_input.npy\")\n",
    "    output = np.load(\"data/data_/data_24\"+a+\"_output.npy\")\n",
    "    inputs = np.concatenate((inputs, input), axis=0)\n",
    "    outputs = np.concatenate((outputs, output), axis=0)\n",
    "print(inputs.shape, outputs.shape)"
   ]
  },
  {
   "cell_type": "code",
   "execution_count": 41,
   "metadata": {},
   "outputs": [],
   "source": [
    "np.save(\"data/data_/data_total_inputs\",inputs)\n",
    "np.save(\"data/data_/data_total_outputs\",outputs)"
   ]
  },
  {
   "cell_type": "markdown",
   "metadata": {},
   "source": [
    "# 1시간 간격으로 데이터 다시 처리해야해!!!"
   ]
  },
  {
   "cell_type": "markdown",
   "metadata": {},
   "source": [
    "데이터 다시 수합"
   ]
  },
  {
   "cell_type": "code",
   "execution_count": 3,
   "metadata": {},
   "outputs": [
    {
     "name": "stdout",
     "output_type": "stream",
     "text": [
      "(8575, 40, 40, 4)\n"
     ]
    }
   ],
   "source": [
    "all_data = np.zeros((0,40,40,4))\n",
    "for i in range(12):\n",
    "    a = \"0\"+str(i+4) if((i+4)<10) else str(i+4)\n",
    "    data_300 = np.load(f\"data/data_/data_24{a}_300.npy\")\n",
    "    data_715 = np.load(f\"data/data_/data_24{a}_715.npy\")\n",
    "    data_ = np.concatenate((data_300, data_715), axis=0)\n",
    "    all_data = np.concatenate((all_data, data_),axis=0)\n",
    "print(all_data.shape)"
   ]
  },
  {
   "cell_type": "markdown",
   "metadata": {},
   "source": [
    "이미지 1시간 간격으로 일단 가져오기"
   ]
  },
  {
   "cell_type": "code",
   "execution_count": 4,
   "metadata": {},
   "outputs": [
    {
     "name": "stdout",
     "output_type": "stream",
     "text": [
      "(286, 40, 40, 4)\n"
     ]
    }
   ],
   "source": [
    "split_data_ = np.zeros((0,40,40,4))\n",
    "for i in range(0,len(all_data),30):\n",
    "    split_data_ = np.concatenate((split_data_,all_data[i].reshape((1,40,40,4))), axis=0)\n",
    "print(split_data_.shape)"
   ]
  },
  {
   "cell_type": "code",
   "execution_count": 5,
   "metadata": {},
   "outputs": [],
   "source": [
    "def split_images(image_files, p=15, input_length=14):\n",
    "    input_images = []\n",
    "    output_images = []\n",
    "    r = len(image_files)//p if(len(image_files)%p==0) else len(image_files)//p + 1\n",
    "    for repeats in range(r):\n",
    "        # rp 배열에 p단위수로 끊어서 넣기\n",
    "        i_rp = image_files[:p][:input_length]\n",
    "        o_rp = image_files[:p][input_length:]\n",
    "        # 기존 배열에서 앞부분은 삭제하면서 당기기\n",
    "        image_files = image_files[p:]\n",
    "        # 배열에 삽입 해버렷\n",
    "        input_images.append(i_rp)\n",
    "        output_images.append(o_rp)\n",
    "        # 버렷!\n",
    "        if len(image_files) < p:\n",
    "            break\n",
    "    # 넘파이 배열로 전환 후 내보내기\n",
    "    return np.array(input_images), np.array(output_images)"
   ]
  },
  {
   "cell_type": "markdown",
   "metadata": {},
   "source": [
    "원래는 split_images로 하려했는데 데이터가 너무 적어보여서 split_data로 부풀렸음"
   ]
  },
  {
   "cell_type": "code",
   "execution_count": 6,
   "metadata": {},
   "outputs": [],
   "source": [
    "def split_data(data, gap, total_length, input_length):\n",
    "    input = []\n",
    "    output = []\n",
    "    i = 0\n",
    "    while i+total_length+1 <= len(data):\n",
    "        input.append(data[i:total_length+i][:input_length])\n",
    "        output.append(data[i:total_length+i][input_length:])\n",
    "        i += gap\n",
    "    return np.array(input), np.array(output)"
   ]
  },
  {
   "cell_type": "code",
   "execution_count": 11,
   "metadata": {},
   "outputs": [],
   "source": [
    "inputs, outputs = split_data(split_data_, gap=1, total_length=12, input_length=11)"
   ]
  },
  {
   "cell_type": "code",
   "execution_count": 12,
   "metadata": {},
   "outputs": [
    {
     "data": {
      "text/plain": [
       "((274, 11, 40, 40, 4), (274, 1, 40, 40, 4))"
      ]
     },
     "execution_count": 12,
     "metadata": {},
     "output_type": "execute_result"
    }
   ],
   "source": [
    "inputs.shape, outputs.shape"
   ]
  },
  {
   "cell_type": "code",
   "execution_count": 48,
   "metadata": {},
   "outputs": [],
   "source": [
    "np.save(\"data/data_/data_1hours_inputs\", inputs)\n",
    "np.save(\"data/data_/data_1hours_outputs\", outputs)"
   ]
  }
 ],
 "metadata": {
  "kernelspec": {
   "display_name": "AF",
   "language": "python",
   "name": "python3"
  },
  "language_info": {
   "codemirror_mode": {
    "name": "ipython",
    "version": 3
   },
   "file_extension": ".py",
   "mimetype": "text/x-python",
   "name": "python",
   "nbconvert_exporter": "python",
   "pygments_lexer": "ipython3",
   "version": "3.10.14"
  }
 },
 "nbformat": 4,
 "nbformat_minor": 2
}
