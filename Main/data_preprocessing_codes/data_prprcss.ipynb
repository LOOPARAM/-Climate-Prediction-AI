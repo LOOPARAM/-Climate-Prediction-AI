{
 "cells": [
  {
   "cell_type": "markdown",
   "metadata": {},
   "source": [
    "# 전체 데이터 로딩"
   ]
  },
  {
   "cell_type": "code",
   "execution_count": 1,
   "metadata": {},
   "outputs": [
    {
     "name": "stdout",
     "output_type": "stream",
     "text": [
      "(1430, 40, 40, 4)\n"
     ]
    }
   ],
   "source": [
    "import numpy as np\n",
    "\n",
    "# 디렉토리 변경으로 '..'을 통해 로드했음. 변경된 디렉토리 구조 참고하시길.\n",
    "total_data = np.load('../data/data_/data_all_2401,2402_4040.npy')\n",
    "print(total_data.shape[:])"
   ]
  },
  {
   "cell_type": "markdown",
   "metadata": {},
   "source": [
    "# 이미지 전처리\n",
    "-> 이미지 1시간 간격으로 끊어서 저장만 하겠음, 사전 저장된 모듈 활용"
   ]
  },
  {
   "cell_type": "code",
   "execution_count": 2,
   "metadata": {},
   "outputs": [
    {
     "data": {
      "text/plain": [
       "<module 'data_preprcss' from '/Volumes/looparam/#1 Coding/#10 Python/AcademicFestival/Main/data_preprocessing_codes/data_preprcss.py'>"
      ]
     },
     "execution_count": 2,
     "metadata": {},
     "output_type": "execute_result"
    }
   ],
   "source": [
    "import data_preprocessing as dpp\n",
    "# 리로딩 안하면 굉장히 골치 아픔\n",
    "from importlib import reload\n",
    "reload(dpp)"
   ]
  },
  {
   "cell_type": "code",
   "execution_count": 19,
   "metadata": {},
   "outputs": [
    {
     "name": "stdout",
     "output_type": "stream",
     "text": [
      "테스트 데이터 규모: (720, 40, 40, 4)\n",
      "입력 데이터 규모: (60, 11, 40, 40, 4)\n",
      "출력 데이터 규모: (60, 1, 40, 40, 4)\n",
      "\n"
     ]
    }
   ],
   "source": [
    "# 일단 작은 규모의 테스트 데이터 먼저 넣어보자..\n",
    "temp_list1 = total_data[:720]\n",
    "print('테스트 데이터 규모:', temp_list1.shape[:])\n",
    "\n",
    "input_imgs1, output_imgs1 = dpp.splitImgs_with_Nhours(temp_list1, 30)\n",
    "print(f'''입력 데이터 규모: {input_imgs1.shape[:]}\n",
    "출력 데이터 규모: {output_imgs1.shape[:]}\n",
    "''')"
   ]
  },
  {
   "cell_type": "code",
   "execution_count": 21,
   "metadata": {},
   "outputs": [
    {
     "name": "stdout",
     "output_type": "stream",
     "text": [
      "테스트 데이터 규모: (360, 40, 40, 4)\n",
      "입력 데이터 규모: (30, 11, 40, 40, 4)\n",
      "출력 데이터 규모: (30, 1, 40, 40, 4)\n",
      "\n"
     ]
    }
   ],
   "source": [
    "# 조금 더 크면서도 애매한 걸로\n",
    "temp_list2 = total_data[:360]\n",
    "print('테스트 데이터 규모:', temp_list2.shape[:])\n",
    "\n",
    "input_imgs2, output_imgs2 = dpp.splitImgs_with_Nhours(temp_list2, 30)\n",
    "print(f'''입력 데이터 규모: {input_imgs2.shape[:]}\n",
    "출력 데이터 규모: {output_imgs2.shape[:]}\n",
    "''')"
   ]
  },
  {
   "cell_type": "markdown",
   "metadata": {},
   "source": [
    "이후 여러 가지 배치 검증 테스트 결과, 알고리즘 정상 작동함"
   ]
  },
  {
   "cell_type": "markdown",
   "metadata": {},
   "source": [
    "# 본격적인 데이터 전처리"
   ]
  },
  {
   "cell_type": "markdown",
   "metadata": {},
   "source": [
    "## 1시간 간격"
   ]
  },
  {
   "cell_type": "markdown",
   "metadata": {},
   "source": [
    "이론상 예상 데이터 개수 : 8575 = 360 x 23 + 295 에서 295개 데이터는 버려짐 -> 실제와 일치  \n",
    "  \n",
    "  \n",
    "이론상 데이터셋(1p) 개수 : 몰라요  \n",
    "\n",
    "실제 데이터셋(1p) 개수 : 690 -> 와우"
   ]
  },
  {
   "cell_type": "code",
   "execution_count": 3,
   "metadata": {},
   "outputs": [],
   "source": [
    "\n",
    "splited_inputs1, splited_outputs1 = dpp.splitImgs_with_Nhours(total_data, 30)"
   ]
  },
  {
   "cell_type": "code",
   "execution_count": 4,
   "metadata": {},
   "outputs": [],
   "source": [
    "np.save(\"../data/data_/data_1hours_inputs_MEGA2\", splited_inputs1)\n",
    "np.save(\"../data/data_/data_1hours_outputs_MEGA2\", splited_outputs1)"
   ]
  },
  {
   "cell_type": "code",
   "execution_count": 5,
   "metadata": {},
   "outputs": [
    {
     "name": "stdout",
     "output_type": "stream",
     "text": [
      "입력 shape: (90, 11, 40, 40, 4)\n",
      "출력 shape (90, 1, 40, 40, 4)\n"
     ]
    }
   ],
   "source": [
    "print('입력 shape:', splited_inputs1.shape[:])\n",
    "print('출력 shape', splited_outputs1.shape[:])"
   ]
  },
  {
   "cell_type": "markdown",
   "metadata": {},
   "source": [
    "## 2시간 간격"
   ]
  },
  {
   "cell_type": "code",
   "execution_count": 6,
   "metadata": {},
   "outputs": [],
   "source": [
    "splited_inputs2, splited_outputs2 = dpp.splitImgs_with_2Hours(total_data)"
   ]
  },
  {
   "cell_type": "code",
   "execution_count": 7,
   "metadata": {},
   "outputs": [],
   "source": [
    "np.save(\"../data/data_/data_2hours_inputs_MEGA\", splited_inputs2)\n",
    "np.save(\"../data/data_/data_2hours_outputs_MEGA\", splited_outputs2)"
   ]
  },
  {
   "cell_type": "code",
   "execution_count": 9,
   "metadata": {},
   "outputs": [
    {
     "name": "stdout",
     "output_type": "stream",
     "text": [
      "입력 shape: (660, 11, 40, 40, 4)\n",
      "출력 shape (660, 1, 40, 40, 4)\n"
     ]
    }
   ],
   "source": [
    "print('입력 shape:', splited_inputs2.shape[:])\n",
    "print('출력 shape', splited_outputs2.shape[:])"
   ]
  },
  {
   "cell_type": "markdown",
   "metadata": {},
   "source": [
    "# 1시간 간격 testDataSet"
   ]
  },
  {
   "cell_type": "markdown",
   "metadata": {},
   "source": [
    "아잉아"
   ]
  },
  {
   "cell_type": "code",
   "execution_count": 22,
   "metadata": {},
   "outputs": [
    {
     "name": "stdout",
     "output_type": "stream",
     "text": [
      "(715, 40, 40, 4)\n"
     ]
    }
   ],
   "source": [
    "data_from2403 = np.load('../data/data_/data_all2403_4040.npy')\n",
    "print(data_from2403.shape[:])"
   ]
  },
  {
   "cell_type": "code",
   "execution_count": 24,
   "metadata": {},
   "outputs": [],
   "source": [
    "splited_test_inputs, splited_test_outputs = dpp.splitImgs_with_Nhours(data_from2403, 30)\n",
    "np.save(\"../data/data_/inputData_1hour_for_test\", splited_test_inputs)\n",
    "np.save(\"../data/data_/outputData_1hour_for_test\", splited_test_outputs)"
   ]
  },
  {
   "cell_type": "code",
   "execution_count": 25,
   "metadata": {},
   "outputs": [
    {
     "name": "stdout",
     "output_type": "stream",
     "text": [
      "입력 shape: (30, 11, 40, 40, 4)\n",
      "출력 shape (30, 1, 40, 40, 4)\n"
     ]
    }
   ],
   "source": [
    "print('입력 shape:', splited_test_inputs.shape[:])\n",
    "print('출력 shape', splited_test_outputs.shape[:])"
   ]
  }
 ],
 "metadata": {
  "kernelspec": {
   "display_name": "ssgVenv",
   "language": "python",
   "name": "python3"
  },
  "language_info": {
   "codemirror_mode": {
    "name": "ipython",
    "version": 3
   },
   "file_extension": ".py",
   "mimetype": "text/x-python",
   "name": "python",
   "nbconvert_exporter": "python",
   "pygments_lexer": "ipython3",
   "version": "3.12.6"
  }
 },
 "nbformat": 4,
 "nbformat_minor": 2
}
