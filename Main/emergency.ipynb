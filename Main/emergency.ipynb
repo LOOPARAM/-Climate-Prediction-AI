{
 "cells": [
  {
   "cell_type": "code",
   "execution_count": 1,
   "metadata": {},
   "outputs": [],
   "source": [
    "# 우선 필요한 모듈을 가져와요\n",
    "import numpy as np\n",
    "import matplotlib.pyplot as plt\n",
    "import os"
   ]
  },
  {
   "cell_type": "code",
   "execution_count": 2,
   "metadata": {},
   "outputs": [
    {
     "data": {
      "text/plain": [
       "8575"
      ]
     },
     "execution_count": 2,
     "metadata": {},
     "output_type": "execute_result"
    }
   ],
   "source": [
    "image_files = os.listdir('data/data1-(8.7μm)')\n",
    "len(image_files)"
   ]
  },
  {
   "cell_type": "code",
   "execution_count": 3,
   "metadata": {},
   "outputs": [
    {
     "data": {
      "text/plain": [
       "8575"
      ]
     },
     "execution_count": 3,
     "metadata": {},
     "output_type": "execute_result"
    }
   ],
   "source": [
    "#4 -> 715\n",
    "#5 -> 715\n",
    "#6 -> 715\n",
    "#7 -> 715\n",
    "#8 -> 715\n",
    "#9 -> 715\n",
    "#10 -> 715\n",
    "#11 -> 715\n",
    "#12 -> 715\n",
    "#13 -> 710\n",
    "#14 -> 715\n",
    "#15 -> 715\n",
    "num_data = [715,715,715,715,715,715,715,715,715,710,715,715]\n",
    "sum(num_data)"
   ]
  },
  {
   "cell_type": "code",
   "execution_count": 4,
   "metadata": {},
   "outputs": [
    {
     "name": "stdout",
     "output_type": "stream",
     "text": [
      "715\n",
      "715\n",
      "715\n",
      "715\n",
      "715\n",
      "715\n",
      "715\n",
      "715\n",
      "715\n",
      "710\n",
      "715\n",
      "715\n"
     ]
    }
   ],
   "source": [
    "a = [i for i in range(sum(num_data))]\n",
    "sum = 0\n",
    "for i in num_data:\n",
    "    print(len(a[sum:sum+i]))\n",
    "    sum += i"
   ]
  },
  {
   "cell_type": "code",
   "execution_count": 5,
   "metadata": {},
   "outputs": [],
   "source": [
    "from data_preprocessing import preprocess_images\n",
    "\n",
    "img_folder = 'data/data1-(8.7μm)'\n",
    "\n",
    "sum = 0\n",
    "i = 0"
   ]
  },
  {
   "cell_type": "code",
   "execution_count": 10,
   "metadata": {},
   "outputs": [
    {
     "name": "stdout",
     "output_type": "stream",
     "text": [
      "3575 5\n"
     ]
    }
   ],
   "source": [
    "def update():\n",
    "    global sum, i\n",
    "    sum += num_data[i]\n",
    "    i += 1\n",
    "update()\n",
    "print(sum,i)"
   ]
  },
  {
   "cell_type": "code",
   "execution_count": 10,
   "metadata": {},
   "outputs": [],
   "source": [
    "#1204 - 0\n",
    "img_tensors = preprocess_images(img_folder, start_i=sum, end_i=sum+num_data[i])\n",
    "np.save(f\"data/data_/data_240{4+i}\", img_tensors)\n",
    "update()"
   ]
  },
  {
   "cell_type": "code",
   "execution_count": 7,
   "metadata": {},
   "outputs": [],
   "source": [
    "#1205 - 2\n",
    "img_tensors = preprocess_images(img_folder, start_i=sum, end_i=sum+num_data[i])\n",
    "np.save(f\"data/data_/data_240{4+i}\", img_tensors)\n",
    "update()"
   ]
  },
  {
   "cell_type": "code",
   "execution_count": 8,
   "metadata": {},
   "outputs": [],
   "source": [
    "#1206 - 2\n",
    "img_tensors = preprocess_images(img_folder, start_i=sum, end_i=sum+num_data[i])\n",
    "np.save(f\"data/data_/data_240{4+i}\", img_tensors)\n",
    "update()"
   ]
  },
  {
   "cell_type": "code",
   "execution_count": 9,
   "metadata": {},
   "outputs": [],
   "source": [
    "#1207 - 3\n",
    "img_tensors = preprocess_images(img_folder, start_i=sum, end_i=sum+num_data[i])\n",
    "np.save(f\"data/data_/data_240{4+i}\", img_tensors)\n",
    "update()"
   ]
  },
  {
   "cell_type": "code",
   "execution_count": 10,
   "metadata": {},
   "outputs": [],
   "source": [
    "#1208 - 4\n",
    "img_tensors = preprocess_images(img_folder, start_i=sum, end_i=sum+num_data[i])\n",
    "np.save(f\"data/data_/data_240{4+i}\", img_tensors)\n",
    "update()"
   ]
  },
  {
   "cell_type": "code",
   "execution_count": 11,
   "metadata": {},
   "outputs": [],
   "source": [
    "#1209 - 5\n",
    "img_tensors = preprocess_images(img_folder, start_i=sum, end_i=sum+num_data[i])\n",
    "np.save(f\"data/data_/data_240{4+i}\", img_tensors)\n",
    "update()"
   ]
  },
  {
   "cell_type": "markdown",
   "metadata": {},
   "source": []
  },
  {
   "cell_type": "code",
   "execution_count": null,
   "metadata": {},
   "outputs": [],
   "source": [
    "#1210 - 6\n",
    "img_tensors = preprocess_images(img_folder, start_i=sum, end_i=sum+num_data[i])\n",
    "np.save(f\"data/data_/data_24{10+i}\", img_tensors)\n",
    "update()"
   ]
  },
  {
   "cell_type": "code",
   "execution_count": null,
   "metadata": {},
   "outputs": [],
   "source": [
    "#1211 - 7\n",
    "img_tensors = preprocess_images(img_folder, start_i=sum, end_i=sum+num_data[i])\n",
    "np.save(f\"data/data_/data_24{10+i}\", img_tensors)\n",
    "update()"
   ]
  },
  {
   "cell_type": "code",
   "execution_count": 13,
   "metadata": {},
   "outputs": [],
   "source": [
    "#1212 - 8\n",
    "img_tensors = preprocess_images(img_folder, start_i=sum, end_i=sum+num_data[i])\n",
    "np.save(f\"data/data_/data_24{10+i}\", img_tensors)\n",
    "update()"
   ]
  },
  {
   "cell_type": "code",
   "execution_count": 10,
   "metadata": {},
   "outputs": [],
   "source": [
    "#1213 - 9\n",
    "img_tensors = preprocess_images(img_folder, start_i=sum, end_i=sum+num_data[i])\n",
    "np.save(f\"data/data_/data_24{10+i}\", img_tensors)\n",
    "update()"
   ]
  },
  {
   "cell_type": "code",
   "execution_count": 11,
   "metadata": {},
   "outputs": [],
   "source": [
    "#1214 - 10\n",
    "img_tensors = preprocess_images(img_folder, start_i=sum, end_i=sum+num_data[i])\n",
    "np.save(f\"data/data_/data_24{10+i}\", img_tensors)\n",
    "update()"
   ]
  },
  {
   "cell_type": "code",
   "execution_count": 13,
   "metadata": {},
   "outputs": [],
   "source": [
    "#1215 - 11\n",
    "img_tensors = preprocess_images(img_folder, start_i=sum, end_i=sum+num_data[i])\n",
    "np.save(f\"data/data_/data_24{10+i}\", img_tensors)\n",
    "update()"
   ]
  },
  {
   "cell_type": "code",
   "execution_count": null,
   "metadata": {},
   "outputs": [],
   "source": [
    "data_1210 = np.load(\"data/data_1210/data_1210.npy\")"
   ]
  },
  {
   "cell_type": "code",
   "execution_count": 9,
   "metadata": {},
   "outputs": [
    {
     "data": {
      "text/plain": [
       "(0, 0)"
      ]
     },
     "execution_count": 9,
     "metadata": {},
     "output_type": "execute_result"
    }
   ],
   "source": [
    "sum,i"
   ]
  },
  {
   "cell_type": "code",
   "execution_count": null,
   "metadata": {},
   "outputs": [],
   "source": []
  }
 ],
 "metadata": {
  "kernelspec": {
   "display_name": "AF",
   "language": "python",
   "name": "python3"
  },
  "language_info": {
   "codemirror_mode": {
    "name": "ipython",
    "version": 3
   },
   "file_extension": ".py",
   "mimetype": "text/x-python",
   "name": "python",
   "nbconvert_exporter": "python",
   "pygments_lexer": "ipython3",
   "version": "3.10.14"
  }
 },
 "nbformat": 4,
 "nbformat_minor": 2
}
