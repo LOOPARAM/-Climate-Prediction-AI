{
 "cells": [
  {
   "cell_type": "code",
   "execution_count": null,
   "metadata": {},
   "outputs": [],
   "source": [
    "# hello this is 심상균\n",
    "### run all 돌리지 마시오!!! 중간에 실행해서는 안되는 코드 존재!!! ###"
   ]
  },
  {
   "cell_type": "code",
   "execution_count": null,
   "metadata": {},
   "outputs": [],
   "source": [
    "# 필요한 라이브러리 임포트\n",
    "import numpy as np\n",
    "import matplotlib.pyplot as plt\n",
    "import tensorflow as tf\n",
    "from keras.models import Sequential\n",
    "from keras.layers import LSTM, Dense\n",
    "from tensorflow.keras.utils import plot_model\n",
    "import pydot\n",
    "import graphviz"
   ]
  },
  {
   "cell_type": "code",
   "execution_count": null,
   "metadata": {},
   "outputs": [],
   "source": [
    "# 임의의 시계열 데이터 생성 (사인파)\n",
    "def generate_sin_wave(seq_length, num_sequences):\n",
    "    # linspace : 0과 100을 seq_length * num_sequences 개수만큼 쪼개서 리스트로 만들어 버렷! >_<\n",
    "    x = np.linspace(0, 100, seq_length * num_sequences)\n",
    "    y = np.sin(x)\n",
    "    # reshape : 개념은 좀 어려울 수 있으니 모르면 걍 검색하셈 ㅇㅇ,, 대충 num_sequences 차원으로 하나 나누고 seq_length 차원으로 한번 더 나눈거라 생각하셈\n",
    "    return y.reshape(num_sequences, seq_length, 1)\n",
    "\n",
    "seq_length = 50  # 시퀀스 길이\n",
    "num_sequences = 1000  # 시퀀스 개수\n",
    "data = generate_sin_wave(seq_length, num_sequences) # 데이터 생성하기!!\n",
    "\n",
    "# 데이터 그래프 그리기\n",
    "x = np.linspace(0, 100, seq_length * num_sequences)\n",
    "y = np.sin(x)\n",
    "plt.plot(x, y)\n",
    "plt.show()"
   ]
  },
  {
   "cell_type": "code",
   "execution_count": null,
   "metadata": {},
   "outputs": [],
   "source": [
    "# 데이터셋 분리\n",
    "split = int(0.8 * num_sequences)\n",
    "train_data = data[:split]\n",
    "test_data = data[split:]"
   ]
  },
  {
   "cell_type": "code",
   "execution_count": null,
   "metadata": {},
   "outputs": [],
   "source": [
    "print(data)"
   ]
  },
  {
   "cell_type": "code",
   "execution_count": null,
   "metadata": {},
   "outputs": [],
   "source": [
    "# 모델 구축\n",
    "# Sequential : Keras 에서 제공하는 신경망 모델 클래스임 간단하게 레이어를 순차적으로 쌓아서 신경망을 구성할때 사용함\n",
    "model = Sequential()\n",
    "\n",
    "# 전체 LSTM 퍼셉트론 개수는 50개야~~ 그리고 내부의 활성화 함수는 뤨루임~~  타임스텝은 시퀀스 길이만큼이야 특징은 하나밖에 없지\n",
    "# 그러면 그시기 그시기 해서 잘 뿅뿅 해서 모델이 만들어져 \n",
    "model.add(LSTM(50, activation='relu', input_shape=(seq_length, 1)))\n",
    "# 50개의 퍼셉트론에서의 출력값을 하나로 짬뽕해서 최종 출력은 임의의 실후가 될거야~\n",
    "model.add(Dense(1))\n",
    "# 모델은 아담아담으로 최적화하고 평균제곱오차로 손실값 정할거야\n",
    "model.compile(optimizer='adam', loss='mse')"
   ]
  },
  {
   "cell_type": "code",
   "execution_count": null,
   "metadata": {},
   "outputs": [],
   "source": [
    "'''\n",
    "#########################################################################\n",
    "#########################################################################\n",
    "#########################################################################\n",
    "#########################################################################\n",
    "#########################################################################\n",
    "#########################################################################\n",
    "#########################################################################\n",
    "#########################################################################\n",
    "#########################################################################\n",
    "이 코드는 실행시키지 말 것!!!!!!!\n",
    "#########################################################################\n",
    "#########################################################################\n",
    "#########################################################################\n",
    "#########################################################################\n",
    "#########################################################################\n",
    "#########################################################################\n",
    "#########################################################################\n",
    "#########################################################################\n",
    "'''\n",
    "# 모델 구축 예시\n",
    "# return_sequences = True를 한 경우에는 각 time step별 hidden state들이 출력된다.\n",
    "from tensorflow.keras.models import Model\n",
    "from tensorflow.keras.layers import Input\n",
    "from tensorflow.keras.layers import LSTM\n",
    "from numpy import array\n",
    "\n",
    "# 타임스텝이 3, 특징이 1개인 인풋 그시기 생성\n",
    "# 특징의 개수는 주가, 거래량, 온도 등의 다양한 정보를 한번에 입력할때 1보다 커짐\n",
    "# Input 은 입력 데이터의 모양을 정함\n",
    "inputs1 = Input(shape=(3, 1))\n",
    "lstm1 = LSTM(3, return_sequences=False)(inputs1)\n",
    "model = Model(inputs=inputs1, outputs=lstm1)\n",
    "\n",
    "data = array([0.1, 0.2, 0.3]).reshape((1,3,1))\n",
    "\n",
    "print(data)\n",
    "print(model.predict(data))"
   ]
  },
  {
   "cell_type": "code",
   "execution_count": null,
   "metadata": {},
   "outputs": [],
   "source": [
    "# 모델 학습\n",
    "X_train = train_data[:, :-1]\n",
    "y_train = train_data[:, -1]\n",
    "model.fit(X_train, y_train, epochs=20, verbose=1)"
   ]
  },
  {
   "cell_type": "code",
   "execution_count": null,
   "metadata": {},
   "outputs": [],
   "source": [
    "X_test = test_data[:, :-1]\n",
    "y_test = test_data[:, -1]\n",
    "predictions = model.predict(X_test)"
   ]
  },
  {
   "cell_type": "code",
   "execution_count": null,
   "metadata": {},
   "outputs": [],
   "source": [
    "plt.plot(y_test, label='True')\n",
    "plt.plot(predictions, label='Predicted')\n",
    "plt.legend()\n",
    "plt.show()"
   ]
  },
  {
   "cell_type": "code",
   "execution_count": null,
   "metadata": {},
   "outputs": [],
   "source": [
    "model.save('mnist_model.keras')"
   ]
  },
  {
   "cell_type": "code",
   "execution_count": null,
   "metadata": {},
   "outputs": [],
   "source": [
    "# 모델 불러오기\n",
    "loaded_model = tf.keras.models.load_model('./mnist_model.keras')\n",
    "\n",
    "# 모델 아키텍처 확인\n",
    "loaded_model.summary()\n",
    "\n",
    "# 모델 컴파일 정보 확인\n",
    "print(\"Optimizer:\", loaded_model.optimizer)\n",
    "print(\"Loss function:\", loaded_model.loss)\n",
    "print(\"Metrics:\", loaded_model.metrics_names)\n",
    "\n",
    "# 모델의 가중치 확인\n",
    "weights = loaded_model.get_weights()\n",
    "print(\"Model weights:\", weights)\n",
    "\n",
    "# 불러온 모델을 사용하여 예측\n",
    "predictions = loaded_model.predict(X_test)\n",
    "\n",
    "# 예측 결과 확인 (예: 첫 번째 테스트 이미지의 예측 결과)\n",
    "print(predictions[0])  # softmax 출력\n",
    "print(np.argmax(predictions[0]))  # 예측된 클래스"
   ]
  },
  {
   "cell_type": "code",
   "execution_count": null,
   "metadata": {},
   "outputs": [],
   "source": []
  }
 ],
 "metadata": {
  "kernelspec": {
   "display_name": "ssgVenv",
   "language": "python",
   "name": "python3"
  },
  "language_info": {
   "codemirror_mode": {
    "name": "ipython",
    "version": 3
   },
   "file_extension": ".py",
   "mimetype": "text/x-python",
   "name": "python",
   "nbconvert_exporter": "python",
   "pygments_lexer": "ipython3",
   "version": "3.12.6"
  }
 },
 "nbformat": 4,
 "nbformat_minor": 2
}
