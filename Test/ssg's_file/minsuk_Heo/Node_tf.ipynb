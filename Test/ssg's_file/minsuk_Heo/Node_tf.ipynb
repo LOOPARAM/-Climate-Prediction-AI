{
 "cells": [
  {
   "cell_type": "code",
   "execution_count": 15,
   "metadata": {},
   "outputs": [],
   "source": [
    "import tensorflow as tf"
   ]
  },
  {
   "cell_type": "markdown",
   "metadata": {},
   "source": [
    "# One Feature Node"
   ]
  },
  {
   "cell_type": "code",
   "execution_count": 16,
   "metadata": {},
   "outputs": [],
   "source": [
    "class One_Feature_Node:\n",
    "    def __init__(self):\n",
    "        self.w = tf.Variable([[0.1]])\n",
    "        self.b = tf.Variable([[0.5]])\n",
    "\n",
    "    def __call__(self, x):\n",
    "        return self.get_output(x)\n",
    "    \n",
    "    def get_output(self, x):\n",
    "        out = tf.matmul(x, self.w)\n",
    "        print(\"matmul result: \", out.numpy())\n",
    "        out = tf.add(out, self.b)\n",
    "        print(\"adding bias relsult: \", out.numpy())\n",
    "        out = tf.math.sigmoid(out)\n",
    "        print(\"sigmoid result: \", out.numpy())\n",
    "        \n",
    "        return out"
   ]
  },
  {
   "cell_type": "code",
   "execution_count": 17,
   "metadata": {},
   "outputs": [
    {
     "name": "stdout",
     "output_type": "stream",
     "text": [
      "matmul result:  [[0.1]]\n",
      "adding bias relsult:  [[0.6]]\n",
      "sigmoid result:  [[0.64565635]]\n"
     ]
    },
    {
     "data": {
      "text/plain": [
       "<tf.Tensor: shape=(1, 1), dtype=float32, numpy=array([[0.64565635]], dtype=float32)>"
      ]
     },
     "execution_count": 17,
     "metadata": {},
     "output_type": "execute_result"
    }
   ],
   "source": [
    "# Single Input\n",
    "x = tf.constant([[1.0]])\n",
    "\n",
    "one_feature_node = One_Feature_Node()\n",
    "one_feature_node(x)"
   ]
  },
  {
   "cell_type": "markdown",
   "metadata": {},
   "source": [
    "# Two Features Node"
   ]
  },
  {
   "cell_type": "code",
   "execution_count": 18,
   "metadata": {},
   "outputs": [],
   "source": [
    "class Two_Features_Node:\n",
    "    def __init__(self):\n",
    "        self.w = tf.Variable([[0.1], [0.2]])\n",
    "        self.b = tf.Variable([[0.5]])\n",
    "\n",
    "    def __call__(self, x):\n",
    "        return self.get_output(x)\n",
    "    \n",
    "    def get_output(self, x):\n",
    "        out = tf.matmul(x, self.w)\n",
    "        print(\"matmul result: \", out.numpy())\n",
    "        out = tf.add(out, self.b)\n",
    "        print(\"adding bias result: \", out.numpy())\n",
    "        out = tf.math.sigmoid(out)\n",
    "        print(\"sigmoid result: \", out.numpy())\n",
    "\n",
    "        return out"
   ]
  },
  {
   "cell_type": "code",
   "execution_count": 19,
   "metadata": {},
   "outputs": [
    {
     "name": "stdout",
     "output_type": "stream",
     "text": [
      "matmul result:  [[0.5]]\n",
      "adding bias result:  [[1.]]\n",
      "sigmoid result:  [[0.7310586]]\n"
     ]
    },
    {
     "data": {
      "text/plain": [
       "<tf.Tensor: shape=(1, 1), dtype=float32, numpy=array([[0.7310586]], dtype=float32)>"
      ]
     },
     "execution_count": 19,
     "metadata": {},
     "output_type": "execute_result"
    }
   ],
   "source": [
    "# Multi Features Single Input (Two Features for one data)\n",
    "x1 = tf.constant([[1.0, 2.0]])\n",
    "\n",
    "two_features_node = Two_Features_Node()\n",
    "two_features_node(x1)\n",
    "\n",
    "# 한마디로, 여러 개 입력에 각각의 가중치 곱해서 더하고 마지막에 편향값 더해서 시그모이드 돌리는 것임"
   ]
  },
  {
   "cell_type": "markdown",
   "metadata": {},
   "source": [
    "# N inputs for Two Features Node"
   ]
  },
  {
   "cell_type": "code",
   "execution_count": 20,
   "metadata": {},
   "outputs": [
    {
     "name": "stdout",
     "output_type": "stream",
     "text": [
      "matmul result:  [[0.5]\n",
      " [0.8]\n",
      " [1.4]]\n",
      "adding bias result:  [[1. ]\n",
      " [1.3]\n",
      " [1.9]]\n",
      "sigmoid result:  [[0.7310586]\n",
      " [0.785835 ]\n",
      " [0.8698915]]\n"
     ]
    },
    {
     "data": {
      "text/plain": [
       "<tf.Tensor: shape=(3, 1), dtype=float32, numpy=\n",
       "array([[0.7310586],\n",
       "       [0.785835 ],\n",
       "       [0.8698915]], dtype=float32)>"
      ]
     },
     "execution_count": 20,
     "metadata": {},
     "output_type": "execute_result"
    }
   ],
   "source": [
    "# Multi Input Data (3 Samples)\n",
    "x2= tf.constant([[1.0, 2.0], [2.0, 3.0], [4.0, 5.0]])\n",
    "\n",
    "two_features_node(x2)"
   ]
  },
  {
   "cell_type": "markdown",
   "metadata": {},
   "source": [
    "# tf.function speed check"
   ]
  },
  {
   "cell_type": "markdown",
   "metadata": {},
   "source": [
    "tf.function decoration put your python onto autograph"
   ]
  },
  {
   "cell_type": "markdown",
   "metadata": {},
   "source": [
    "This enables faster execution, running on GPU or TPU, or exporting to SavedModel."
   ]
  },
  {
   "cell_type": "markdown",
   "metadata": {},
   "source": [
    "-> 한마디로 tensorflow에 맞게 최적화하여 실행 속도를 ㅈㄴ 높인다는 뜻이다."
   ]
  },
  {
   "cell_type": "code",
   "execution_count": 21,
   "metadata": {},
   "outputs": [],
   "source": [
    "import timeit"
   ]
  },
  {
   "cell_type": "code",
   "execution_count": 22,
   "metadata": {},
   "outputs": [],
   "source": [
    "class Two_Features_Node2:\n",
    "    def __init__(self):\n",
    "        self.w = tf.Variable([[0.1], [0.2]])\n",
    "        self.b = tf.Variable([[0.5]])\n",
    "\n",
    "    def __call__(self, x):\n",
    "        return self.get_output(x)\n",
    "    \n",
    "    def get_output(self, x):\n",
    "        for i in range(50):\n",
    "            out = tf.matmul(x, self.w)\n",
    "            out = tf.add(out, self.b)\n",
    "            out = tf.math.sigmoid(out)\n",
    "\n",
    "        return out\n",
    "    \n",
    "    @tf.function\n",
    "    def get_out_faster(self, x):\n",
    "        for i in range(50):\n",
    "            out = tf.matmul(x, self.w)\n",
    "            out = tf.add(out, self.b)\n",
    "            out = tf.math.sigmoid(out)\n",
    "\n",
    "        return out"
   ]
  },
  {
   "cell_type": "code",
   "execution_count": 23,
   "metadata": {},
   "outputs": [],
   "source": [
    "two_features_node2 = Two_Features_Node2()\n",
    "\n",
    "get_out_without_tf_function_timeit = timeit.timeit(lambda: two_features_node2.get_output(x2), number = 300)\n",
    "get_out_with_tf_function_timeit = timeit.timeit(lambda: two_features_node2.get_out_faster(x2), number = 300)\n",
    "time_diff = round(get_out_without_tf_function_timeit / get_out_with_tf_function_timeit, 1)"
   ]
  },
  {
   "cell_type": "code",
   "execution_count": 24,
   "metadata": {},
   "outputs": [
    {
     "name": "stdout",
     "output_type": "stream",
     "text": [
      "get_output_faster(@tf.function) is 16.5 times faster than get_output_without_tf_function!\n"
     ]
    }
   ],
   "source": [
    "print(\"get_output_faster(@tf.function) is \" + str(time_diff) + \" times faster than get_output_without_tf_function!\")"
   ]
  }
 ],
 "metadata": {
  "kernelspec": {
   "display_name": "ssgVenv",
   "language": "python",
   "name": "python3"
  },
  "language_info": {
   "codemirror_mode": {
    "name": "ipython",
    "version": 3
   },
   "file_extension": ".py",
   "mimetype": "text/x-python",
   "name": "python",
   "nbconvert_exporter": "python",
   "pygments_lexer": "ipython3",
   "version": "3.12.6"
  }
 },
 "nbformat": 4,
 "nbformat_minor": 2
}
