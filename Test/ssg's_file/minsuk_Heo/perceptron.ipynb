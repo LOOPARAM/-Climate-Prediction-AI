{
 "cells": [
  {
   "cell_type": "code",
   "execution_count": 123,
   "metadata": {},
   "outputs": [],
   "source": [
    "import tensorflow as tf"
   ]
  },
  {
   "cell_type": "code",
   "execution_count": 124,
   "metadata": {},
   "outputs": [],
   "source": [
    "T = 1.0     # True\n",
    "F = 0.0     # False\n",
    "bias = 1.0  # 편향값"
   ]
  },
  {
   "cell_type": "code",
   "execution_count": 125,
   "metadata": {},
   "outputs": [],
   "source": [
    "# AND연산 함수\n",
    "def get_AND_data():\n",
    "    X = [\n",
    "    [F, F, bias],\n",
    "    [F, T, bias],\n",
    "    [T, F, bias],\n",
    "    [T, T, bias]\n",
    "    ]\n",
    "\n",
    "    Y = [\n",
    "        [F],\n",
    "        [F],\n",
    "        [F],\n",
    "        [T]\n",
    "    ]\n",
    "\n",
    "    return X, Y\n",
    "\n",
    "# OR연산 함수\n",
    "def get_OR_data():\n",
    "    X = [\n",
    "    [F, F, bias],\n",
    "    [F, T, bias],\n",
    "    [T, F, bias],\n",
    "    [T, T, bias]\n",
    "    ]\n",
    "    \n",
    "    Y = [\n",
    "        [F],\n",
    "        [T],\n",
    "        [T],\n",
    "        [T]\n",
    "    ]\n",
    "    \n",
    "    return X, Y\n",
    "\n",
    "# XOR연산 함수\n",
    "def get_XOR_data():\n",
    "    X = [\n",
    "    [F, F, bias],\n",
    "    [F, T, bias],\n",
    "    [T, F, bias],\n",
    "    [T, T, bias]\n",
    "    ]\n",
    "    \n",
    "    Y = [\n",
    "        [F],\n",
    "        [T],\n",
    "        [T],\n",
    "        [F]\n",
    "    ]\n",
    "    \n",
    "    return X, Y"
   ]
  },
  {
   "cell_type": "code",
   "execution_count": 126,
   "metadata": {},
   "outputs": [],
   "source": [
    "# 데이터를 받아오는 과정\n",
    "# X, Y = get_AND_data()\n",
    "# X, Y = get_OR_data()\n",
    "X, Y = get_XOR_data()"
   ]
  },
  {
   "cell_type": "code",
   "execution_count": 127,
   "metadata": {},
   "outputs": [],
   "source": [
    "# 초기 가중치값을 설정하는 단계\n",
    "# tf.Variable() 은 변경 가능한 변수를 선언하는 메서드 -> 가중치에서 꼭 필요\n",
    "# tf.random.normal([a, b]) 은 정규분포 중 임의로 값을 돌리는 거죠. [a, b]는 3행 1열의 텐서를 의미\n",
    "# tf.Tensor() 도 텐서 생성 함수, 그러나 튜플처럼 변경 불가\n",
    "W = tf.Variable(tf.random.normal([3, 1]))"
   ]
  },
  {
   "cell_type": "code",
   "execution_count": 128,
   "metadata": {},
   "outputs": [],
   "source": [
    "# 활성화 함수임\n",
    "# 이 함수는 활성화 함수 중 step함수로, 0 혹은 1만 출력하는 불연속 함수임\n",
    "# tf.greater(x, 0) 은 입력되는 x값이 0보다 크면 True, 0보다 작으면 False 반환\n",
    "# tf.cast() 는 불리언 값을 부동소수점 텐서로 변환\n",
    "def step(x):\n",
    "    return tf.cast(tf.greater(x, 0), tf.float32)"
   ]
  },
  {
   "cell_type": "code",
   "execution_count": 129,
   "metadata": {},
   "outputs": [
    {
     "name": "stdout",
     "output_type": "stream",
     "text": [
      "epoch: 1, mse: 0.5\n",
      "epoch: 2, mse: 0.5\n",
      "epoch: 3, mse: 0.5\n",
      "epoch: 4, mse: 0.5\n",
      "epoch: 5, mse: 0.5\n",
      "epoch: 6, mse: 0.5\n",
      "epoch: 7, mse: 0.5\n",
      "epoch: 8, mse: 0.5\n",
      "epoch: 9, mse: 0.5\n",
      "epoch: 10, mse: 0.5\n",
      "epoch: 11, mse: 0.5\n",
      "epoch: 12, mse: 0.5\n",
      "epoch: 13, mse: 0.5\n",
      "epoch: 14, mse: 0.5\n",
      "epoch: 15, mse: 0.5\n",
      "epoch: 16, mse: 0.5\n",
      "epoch: 17, mse: 0.5\n",
      "epoch: 18, mse: 0.5\n",
      "epoch: 19, mse: 0.5\n",
      "epoch: 20, mse: 0.5\n",
      "\n",
      "Testing Result:\n",
      "[[0.]\n",
      " [0.]\n",
      " [0.]\n",
      " [0.]]\n"
     ]
    }
   ],
   "source": [
    "# 초기값 설정\n",
    "epoch, max_epochs = 0, 20\n",
    "err = 1.0\n",
    "# 학습 루프\n",
    "while err > 0.0 and epoch < max_epochs:\n",
    "    epoch += 1\n",
    "    err = mse.numpy()\n",
    "\n",
    "    # tf.matmul(X, W) 는 텐서 X와 W를 행렬 곱셈하는 함수임\n",
    "    # step() 함수로 값을 0 혹은 1인 텐서로 조정\n",
    "    f = tf.matmul(X, W)\n",
    "    output = step(f)\n",
    "    error = tf.subtract(Y, output)\n",
    "    mse = tf.reduce_mean(tf.square(error))\n",
    "\n",
    "    # transpose_a = True 는 X 행렬을 전치시켜 행렬 곱 구함\n",
    "    # X와 error를 행렬곱하여 수정해야 하는 양을 원래 양의 가중치를 곱한 방식으로 구함(나도 잘 몰루)\n",
    "    # assign()을 통해 가중치 업데이트\n",
    "    delta = tf.matmul(X, error, transpose_a = True)\n",
    "    W.assign(W + delta)\n",
    "    print(f'epoch: {epoch}, mse: {err}')\n",
    "\n",
    "# 테스트 결과 출력\n",
    "print('\\nTesting Result:')\n",
    "print(output.numpy())"
   ]
  }
 ],
 "metadata": {
  "kernelspec": {
   "display_name": "ssgVenv",
   "language": "python",
   "name": "python3"
  },
  "language_info": {
   "codemirror_mode": {
    "name": "ipython",
    "version": 3
   },
   "file_extension": ".py",
   "mimetype": "text/x-python",
   "name": "python",
   "nbconvert_exporter": "python",
   "pygments_lexer": "ipython3",
   "version": "3.12.6"
  }
 },
 "nbformat": 4,
 "nbformat_minor": 2
}
