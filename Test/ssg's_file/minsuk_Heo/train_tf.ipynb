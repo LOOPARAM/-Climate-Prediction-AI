{
 "cells": [
  {
   "cell_type": "code",
   "execution_count": 5,
   "metadata": {},
   "outputs": [],
   "source": [
    "import tensorflow as tf\n",
    "import numpy as np\n",
    "\n",
    "# random seed for always same result from TF2\n",
    "tf.random.set_seed(1)\n",
    "np.random.seed(1)"
   ]
  },
  {
   "cell_type": "code",
   "execution_count": 12,
   "metadata": {},
   "outputs": [],
   "source": [
    "class Node:\n",
    "    def __init__(self):\n",
    "        self.w = tf.Variable(tf.random.normal([2, 1]))\n",
    "        self.b = tf.Variable(tf.random.normal([1, 1]))\n",
    "\n",
    "    def __call__(self, x):\n",
    "        return self.preds(x)\n",
    "    \n",
    "    def preds(self, x):\n",
    "        # forward propagation\n",
    "        out = tf.matmul(x, self.w)\n",
    "        out = tf.add(out, self.b)\n",
    "        out = tf.math.sigmoid(out)\n",
    "\n",
    "        return out\n",
    "    \n",
    "    def loss(self, y_pred, y):\n",
    "        return tf.reduce_mean(tf.square(y_pred - y))\n",
    "    \n",
    "    def train(self, inputs, outputs, learning_rate):\n",
    "        epochs = range(10000)\n",
    "        for i, epoch in enumerate(epochs):\n",
    "            with tf.GradientTape() as t:\n",
    "                current_loss = self.loss(self.preds(inputs), outputs)\n",
    "                if i % 1000 == 0:\n",
    "                    print(str(i) + \" epoch, loss: \" + str(current_loss.numpy()))\n",
    "                # back propagation\n",
    "                dW, dB = t.gradient(current_loss, [self.w, self.b])\n",
    "                self.w.assign_sub(learning_rate * dW)\n",
    "                self.b.assign_sub(learning_rate * dB)"
   ]
  },
  {
   "cell_type": "code",
   "execution_count": 13,
   "metadata": {},
   "outputs": [
    {
     "name": "stdout",
     "output_type": "stream",
     "text": [
      "0 epoch, loss: 0.2318126\n",
      "1000 epoch, loss: 0.13176371\n",
      "2000 epoch, loss: 0.112384826\n",
      "3000 epoch, loss: 0.09854856\n",
      "4000 epoch, loss: 0.087817974\n",
      "5000 epoch, loss: 0.07919529\n",
      "6000 epoch, loss: 0.07207632\n",
      "7000 epoch, loss: 0.066076055\n",
      "8000 epoch, loss: 0.060937516\n",
      "9000 epoch, loss: 0.056481473\n"
     ]
    }
   ],
   "source": [
    "# AND operation\n",
    "inputs = tf.constant([[0.0, 0.0], [0.0, 1.0], [1.0, 0.0], [1.0, 1.0]])\n",
    "outputs = tf.constant([[0.0], [0.0], [0.0], [1.0]])\n",
    "\n",
    "node = Node()\n",
    "# train\n",
    "node.train(inputs, outputs, 0.01)\n",
    "# test\n",
    "assert node([[0.0, 0.0]]).numpy()[0][0] < 0.5\n",
    "assert node([[0.0, 1.0]]).numpy()[0][0] < 0.5\n",
    "assert node([[1.0, 0.0]]).numpy()[0][0] < 0.5\n",
    "assert node([[1.0, 1.0]]).numpy()[0][0] >= 0.5"
   ]
  },
  {
   "cell_type": "code",
   "execution_count": 14,
   "metadata": {},
   "outputs": [
    {
     "name": "stdout",
     "output_type": "stream",
     "text": [
      "Node Weights:  [[1.9868511]\n",
      " [1.9718535]]\n",
      "Node Bias:  [[-3.1180449]]\n"
     ]
    }
   ],
   "source": [
    "print(\"Node Weights: \",node.w.numpy())\n",
    "print(\"Node Bias: \",node.b.numpy())"
   ]
  },
  {
   "cell_type": "code",
   "execution_count": 15,
   "metadata": {},
   "outputs": [
    {
     "name": "stdout",
     "output_type": "stream",
     "text": [
      "0 epoch, loss: 0.55515707\n",
      "1000 epoch, loss: 0.21274577\n",
      "2000 epoch, loss: 0.13632235\n",
      "3000 epoch, loss: 0.10990352\n",
      "4000 epoch, loss: 0.09109047\n",
      "5000 epoch, loss: 0.07673595\n",
      "6000 epoch, loss: 0.06573541\n",
      "7000 epoch, loss: 0.057178583\n",
      "8000 epoch, loss: 0.050386075\n",
      "9000 epoch, loss: 0.04488549\n"
     ]
    }
   ],
   "source": [
    "# OR operation\n",
    "inputs = tf.constant([[0.0, 0.0], [0.0, 1.0], [1.0, 0.0], [1.0, 1.0]])\n",
    "outputs = tf.constant([[0.0], [1.0], [1.0], [1.0]])\n",
    "\n",
    "node = Node()\n",
    "# train\n",
    "node.train(inputs, outputs, 0.01)\n",
    "# test\n",
    "assert node([[0.0, 0.0]]).numpy()[0][0] < 0.5\n",
    "assert node([[0.0, 1.0]]).numpy()[0][0] >= 0.5\n",
    "assert node([[1.0, 0.0]]).numpy()[0][0] >= 0.5\n",
    "assert node([[1.0, 1.0]]).numpy()[0][0] >= 0.5"
   ]
  },
  {
   "cell_type": "code",
   "execution_count": 16,
   "metadata": {},
   "outputs": [
    {
     "name": "stdout",
     "output_type": "stream",
     "text": [
      "Node Weights:  [[2.2090375]\n",
      " [2.4556649]]\n",
      "Node Bias:  [[-0.7799054]]\n"
     ]
    }
   ],
   "source": [
    "print(\"Node Weights: \",node.w.numpy())\n",
    "print(\"Node Bias: \",node.b.numpy())"
   ]
  },
  {
   "cell_type": "code",
   "execution_count": 17,
   "metadata": {},
   "outputs": [
    {
     "name": "stdout",
     "output_type": "stream",
     "text": [
      "0 epoch, loss: 0.27420625\n",
      "1000 epoch, loss: 0.26042953\n",
      "2000 epoch, loss: 0.25639975\n",
      "3000 epoch, loss: 0.2540761\n",
      "4000 epoch, loss: 0.252605\n",
      "5000 epoch, loss: 0.25166985\n",
      "6000 epoch, loss: 0.25107515\n",
      "7000 epoch, loss: 0.25069577\n",
      "8000 epoch, loss: 0.2504527\n",
      "9000 epoch, loss: 0.25029606\n"
     ]
    },
    {
     "ename": "AssertionError",
     "evalue": "",
     "output_type": "error",
     "traceback": [
      "\u001b[1;31m---------------------------------------------------------------------------\u001b[0m",
      "\u001b[1;31mAssertionError\u001b[0m                            Traceback (most recent call last)",
      "Cell \u001b[1;32mIn[17], line 11\u001b[0m\n\u001b[0;32m      9\u001b[0m \u001b[38;5;28;01massert\u001b[39;00m node([[\u001b[38;5;241m0.0\u001b[39m, \u001b[38;5;241m0.0\u001b[39m]])\u001b[38;5;241m.\u001b[39mnumpy()[\u001b[38;5;241m0\u001b[39m][\u001b[38;5;241m0\u001b[39m] \u001b[38;5;241m<\u001b[39m \u001b[38;5;241m0.5\u001b[39m\n\u001b[0;32m     10\u001b[0m \u001b[38;5;28;01massert\u001b[39;00m node([[\u001b[38;5;241m0.0\u001b[39m, \u001b[38;5;241m1.0\u001b[39m]])\u001b[38;5;241m.\u001b[39mnumpy()[\u001b[38;5;241m0\u001b[39m][\u001b[38;5;241m0\u001b[39m] \u001b[38;5;241m>\u001b[39m\u001b[38;5;241m=\u001b[39m \u001b[38;5;241m0.5\u001b[39m\n\u001b[1;32m---> 11\u001b[0m \u001b[38;5;28;01massert\u001b[39;00m node([[\u001b[38;5;241m1.0\u001b[39m, \u001b[38;5;241m0.0\u001b[39m]])\u001b[38;5;241m.\u001b[39mnumpy()[\u001b[38;5;241m0\u001b[39m][\u001b[38;5;241m0\u001b[39m] \u001b[38;5;241m>\u001b[39m\u001b[38;5;241m=\u001b[39m \u001b[38;5;241m0.5\u001b[39m\n\u001b[0;32m     12\u001b[0m \u001b[38;5;28;01massert\u001b[39;00m node([[\u001b[38;5;241m1.0\u001b[39m, \u001b[38;5;241m1.0\u001b[39m]])\u001b[38;5;241m.\u001b[39mnumpy()[\u001b[38;5;241m0\u001b[39m][\u001b[38;5;241m0\u001b[39m] \u001b[38;5;241m<\u001b[39m \u001b[38;5;241m0.5\u001b[39m\n",
      "\u001b[1;31mAssertionError\u001b[0m: "
     ]
    }
   ],
   "source": [
    "# XOR operation\n",
    "inputs = tf.constant([[0.0, 0.0], [0.0, 1.0], [1.0, 0.0], [1.0, 1.0]])\n",
    "outputs = tf.constant([[0.0], [1.0], [1.0], [0.0]])\n",
    "\n",
    "node = Node()\n",
    "# train\n",
    "node.train(inputs, outputs, 0.01)\n",
    "# test\n",
    "assert node([[0.0, 0.0]]).numpy()[0][0] < 0.5\n",
    "assert node([[0.0, 1.0]]).numpy()[0][0] >= 0.5\n",
    "assert node([[1.0, 0.0]]).numpy()[0][0] >= 0.5\n",
    "assert node([[1.0, 1.0]]).numpy()[0][0] < 0.5"
   ]
  },
  {
   "cell_type": "markdown",
   "metadata": {},
   "source": [
    "이렇게, XOR 문제는 단일 퍼셉트론(단일 노드)으로는 해결할 수 없음을 다시 한 번 확인할 수 있다."
   ]
  },
  {
   "cell_type": "code",
   "execution_count": 18,
   "metadata": {},
   "outputs": [
    {
     "name": "stdout",
     "output_type": "stream",
     "text": [
      "Node Weights:  [[0.0506814 ]\n",
      " [0.09572697]]\n",
      "Node Bias:  [[-0.08556153]]\n"
     ]
    }
   ],
   "source": [
    "print(\"Node Weights: \",node.w.numpy())\n",
    "print(\"Node Bias: \",node.b.numpy())"
   ]
  }
 ],
 "metadata": {
  "kernelspec": {
   "display_name": "ssgVenv",
   "language": "python",
   "name": "python3"
  },
  "language_info": {
   "codemirror_mode": {
    "name": "ipython",
    "version": 3
   },
   "file_extension": ".py",
   "mimetype": "text/x-python",
   "name": "python",
   "nbconvert_exporter": "python",
   "pygments_lexer": "ipython3",
   "version": "3.12.6"
  }
 },
 "nbformat": 4,
 "nbformat_minor": 2
}
