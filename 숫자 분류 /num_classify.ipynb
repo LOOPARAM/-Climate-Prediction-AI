{
 "cells": [
  {
   "cell_type": "code",
   "execution_count": 1,
   "id": "5c9d2a17-4ca7-4fb4-a974-cd9d20c08244",
   "metadata": {},
   "outputs": [],
   "source": [
    "%matplotlib inline\n",
    "import matplotlib.pyplot as plt # 시각화를 위한 맷플롯립\n",
    "from sklearn.datasets import load_digits\n",
    "digits = load_digits() # 1,979개의 이미지 데이터 로드"
   ]
  },
  {
   "cell_type": "code",
   "execution_count": 2,
   "id": "2d27d556-a962-4523-bcf0-1ea29e397e21",
   "metadata": {},
   "outputs": [
    {
     "name": "stdout",
     "output_type": "stream",
     "text": [
      "[[ 0.  0.  5. 13.  9.  1.  0.  0.]\n",
      " [ 0.  0. 13. 15. 10. 15.  5.  0.]\n",
      " [ 0.  3. 15.  2.  0. 11.  8.  0.]\n",
      " [ 0.  4. 12.  0.  0.  8.  8.  0.]\n",
      " [ 0.  5.  8.  0.  0.  9.  8.  0.]\n",
      " [ 0.  4. 11.  0.  1. 12.  7.  0.]\n",
      " [ 0.  2. 14.  5. 10. 12.  0.  0.]\n",
      " [ 0.  0.  6. 13. 10.  0.  0.  0.]]\n"
     ]
    }
   ],
   "source": [
    "print(digits.images[0])"
   ]
  },
  {
   "cell_type": "code",
   "execution_count": 3,
   "id": "80f8a57c-546d-40d6-9872-bc5a4865b8c7",
   "metadata": {},
   "outputs": [
    {
     "name": "stdout",
     "output_type": "stream",
     "text": [
      "0\n"
     ]
    }
   ],
   "source": [
    "print(digits.target[0])"
   ]
  },
  {
   "cell_type": "code",
   "execution_count": 4,
   "id": "1d9f9d9d-503b-4f36-9571-9ad198f8a9a3",
   "metadata": {},
   "outputs": [
    {
     "name": "stdout",
     "output_type": "stream",
     "text": [
      "전체 샘플의 수 : 1797\n"
     ]
    }
   ],
   "source": [
    "print('전체 샘플의 수 : {}'.format(len(digits.images)))"
   ]
  },
  {
   "cell_type": "code",
   "execution_count": 5,
   "id": "389281ca-ddbc-498b-823e-3dceca990537",
   "metadata": {},
   "outputs": [
    {
     "data": {
      "image/png": "[encoded data removed]",
      "text/plain": [
       "<Figure size 640x480 with 5 Axes>"
      ]
     },
     "metadata": {},
     "output_type": "display_data"
    }
   ],
   "source": [
    "images_and_labels = list(zip(digits.images, digits.target))\n",
    "for index, (image, label) in enumerate(images_and_labels[:5]): # 5개의 샘플만 출력\n",
    "    plt.subplot(2, 5, index + 1)\n",
    "    plt.axis('off')\n",
    "    plt.imshow(image, cmap=plt.cm.gray_r, interpolation='nearest')\n",
    "    plt.title('sample: %i' % label)"
   ]
  },
  {
   "cell_type": "code",
   "execution_count": 6,
   "id": "8ac5e0c5-510b-4982-bb97-df8ef88739af",
   "metadata": {},
   "outputs": [
    {
     "name": "stdout",
     "output_type": "stream",
     "text": [
      "0 번 인덱스 샘플의 레이블 :  0\n",
      "1 번 인덱스 샘플의 레이블 :  1\n",
      "2 번 인덱스 샘플의 레이블 :  2\n",
      "3 번 인덱스 샘플의 레이블 :  3\n",
      "4 번 인덱스 샘플의 레이블 :  4\n"
     ]
    }
   ],
   "source": [
    "for i in range(5):\n",
    "  print(i,'번 인덱스 샘플의 레이블 : ',digits.target[i])"
   ]
  },
  {
   "cell_type": "code",
   "execution_count": 7,
   "id": "d6c8cb6d-3530-4615-8a4f-e1d60ee6a8f0",
   "metadata": {},
   "outputs": [
    {
     "name": "stdout",
     "output_type": "stream",
     "text": [
      "[ 0.  0.  5. 13.  9.  1.  0.  0.  0.  0. 13. 15. 10. 15.  5.  0.  0.  3.\n",
      " 15.  2.  0. 11.  8.  0.  0.  4. 12.  0.  0.  8.  8.  0.  0.  5.  8.  0.\n",
      "  0.  9.  8.  0.  0.  4. 11.  0.  1. 12.  7.  0.  0.  2. 14.  5. 10. 12.\n",
      "  0.  0.  0.  0.  6. 13. 10.  0.  0.  0.]\n"
     ]
    }
   ],
   "source": [
    "print(digits.data[0])"
   ]
  },
  {
   "cell_type": "code",
   "execution_count": 8,
   "id": "7b724783-0973-4e4f-9a7d-d9daa6ecbbd0",
   "metadata": {},
   "outputs": [],
   "source": [
    "X = digits.data # 이미지. 즉, 특성 행렬\n",
    "Y = digits.target # 각 이미지에 대한 레이블"
   ]
  },
  {
   "cell_type": "code",
   "execution_count": 9,
   "id": "9d9e0c34-cc47-4152-91fb-d0ca7747f56a",
   "metadata": {},
   "outputs": [],
   "source": [
    "import torch\n",
    "import torch.nn as nn\n",
    "from torch import optim"
   ]
  },
  {
   "cell_type": "code",
   "execution_count": 10,
   "id": "8b38d564-14de-4dd9-8b3c-41609b71f40b",
   "metadata": {},
   "outputs": [],
   "source": [
    "# 모델 정의: 순차적인 레이어 구조\n",
    "model = nn.Sequential(\n",
    "    nn.Linear(64, 32), # 입력층: 64, 첫 번째 은닉층: 32\n",
    "    nn.ReLU(),         # 활성화 함수: ReLU\n",
    "    nn.Linear(32, 16), # 첫 번째 은닉층: 32, 두 번째 은닉층: 16\n",
    "    nn.ReLU(),         # 활성화 함수: ReLU\n",
    "    nn.Linear(16, 10)  # 두 번째 은닉층: 16, 출력층: 10 (클래스의 개수)\n",
    ")"
   ]
  },
  {
   "cell_type": "code",
   "execution_count": 11,
   "id": "1683e824-90bd-4f50-a923-34ed40a42cfe",
   "metadata": {},
   "outputs": [],
   "source": [
    "# 입력 데이터 X와 레이블 Y를 텐서로 변환\n",
    "X = torch.tensor(X, dtype=torch.float32)\n",
    "Y = torch.tensor(Y, dtype=torch.int64)"
   ]
  },
  {
   "cell_type": "code",
   "execution_count": 12,
   "id": "8170fffe-efcd-41c7-976a-7657d8eae81e",
   "metadata": {},
   "outputs": [],
   "source": [
    "loss_fn = nn.CrossEntropyLoss() # 이 비용 함수는 소프트맥스 함수를 포함하고 있음."
   ]
  },
  {
   "cell_type": "code",
   "execution_count": 13,
   "id": "84bb8be7-cbaa-494b-8670-9fbf6d9b9371",
   "metadata": {},
   "outputs": [],
   "source": [
    "optimizer = optim.Adam(model.parameters())"
   ]
  },
  {
   "cell_type": "code",
   "execution_count": 15,
   "id": "dc05c6f5-4a97-4c9e-ae98-a287b730a5e7",
   "metadata": {},
   "outputs": [],
   "source": [
    "losses = []"
   ]
  },
  {
   "cell_type": "code",
   "execution_count": 19,
   "id": "f7e671a4-f3dd-40a2-a1f1-dffef3b95e49",
   "metadata": {},
   "outputs": [
    {
     "name": "stdout",
     "output_type": "stream",
     "text": [
      "Epoch    0/100 Cost: 0.006018\n",
      "Epoch   10/100 Cost: 0.005767\n",
      "Epoch   20/100 Cost: 0.005530\n",
      "Epoch   30/100 Cost: 0.005308\n",
      "Epoch   40/100 Cost: 0.005098\n",
      "Epoch   50/100 Cost: 0.004900\n",
      "Epoch   60/100 Cost: 0.004713\n",
      "Epoch   70/100 Cost: 0.004536\n",
      "Epoch   80/100 Cost: 0.004368\n",
      "Epoch   90/100 Cost: 0.004209\n",
      "Epoch  100/100 Cost: 0.004059\n",
      "Epoch  110/100 Cost: 0.003916\n",
      "Epoch  120/100 Cost: 0.003780\n",
      "Epoch  130/100 Cost: 0.003651\n",
      "Epoch  140/100 Cost: 0.003528\n",
      "Epoch  150/100 Cost: 0.003411\n",
      "Epoch  160/100 Cost: 0.003300\n",
      "Epoch  170/100 Cost: 0.003193\n",
      "Epoch  180/100 Cost: 0.003091\n",
      "Epoch  190/100 Cost: 0.002994\n",
      "Epoch  200/100 Cost: 0.002900\n",
      "Epoch  210/100 Cost: 0.002811\n",
      "Epoch  220/100 Cost: 0.002726\n",
      "Epoch  230/100 Cost: 0.002644\n",
      "Epoch  240/100 Cost: 0.002565\n",
      "Epoch  250/100 Cost: 0.002490\n",
      "Epoch  260/100 Cost: 0.002418\n",
      "Epoch  270/100 Cost: 0.002348\n",
      "Epoch  280/100 Cost: 0.002282\n",
      "Epoch  290/100 Cost: 0.002218\n",
      "Epoch  300/100 Cost: 0.002157\n",
      "Epoch  310/100 Cost: 0.002099\n",
      "Epoch  320/100 Cost: 0.002042\n",
      "Epoch  330/100 Cost: 0.001988\n",
      "Epoch  340/100 Cost: 0.001936\n",
      "Epoch  350/100 Cost: 0.001885\n",
      "Epoch  360/100 Cost: 0.001837\n",
      "Epoch  370/100 Cost: 0.001790\n",
      "Epoch  380/100 Cost: 0.001746\n",
      "Epoch  390/100 Cost: 0.001702\n",
      "Epoch  400/100 Cost: 0.001660\n",
      "Epoch  410/100 Cost: 0.001620\n",
      "Epoch  420/100 Cost: 0.001581\n",
      "Epoch  430/100 Cost: 0.001543\n",
      "Epoch  440/100 Cost: 0.001507\n",
      "Epoch  450/100 Cost: 0.001472\n",
      "Epoch  460/100 Cost: 0.001437\n",
      "Epoch  470/100 Cost: 0.001404\n",
      "Epoch  480/100 Cost: 0.001372\n",
      "Epoch  490/100 Cost: 0.001341\n"
     ]
    }
   ],
   "source": [
    "# 총 100번의 에포크 동안 모델 학습\n",
    "for epoch in range(500):\n",
    "  optimizer.zero_grad()      # 옵티마이저의 기울기 초기화\n",
    "  y_pred = model(X)          # 순전파 연산으로 예측값 계산\n",
    "  loss = loss_fn(y_pred, Y)  # 손실 함수로 비용 계산\n",
    "  loss.backward()            # 역전파 연산으로 기울기 계산\n",
    "  optimizer.step()           # 옵티마이저를 통해 파라미터 업데이트\n",
    "\n",
    "  # 10번째 에포크마다 현재 에포크와 손실 값 출력\n",
    "  if epoch % 10 == 0:\n",
    "    print('Epoch {:4d}/{} Cost: {:.6f}'.format(\n",
    "            epoch, 100, loss.item()\n",
    "        ))\n",
    "\n",
    "  # 손실 값을 리스트에 추가하여 추적\n",
    "  losses.append(loss.item())\n"
   ]
  },
  {
   "cell_type": "code",
   "execution_count": 20,
   "id": "e3f740de-ee5d-4a6a-85a0-a50c2af70b1e",
   "metadata": {},
   "outputs": [
    {
     "data": {
      "text/plain": [
       "[<matplotlib.lines.Line2D at 0x12ebb94e0>]"
      ]
     },
     "execution_count": 20,
     "metadata": {},
     "output_type": "execute_result"
    },
    {
     "data": {
      "image/png": "[encoded data removed]",
      "text/plain": [
       "<Figure size 640x480 with 1 Axes>"
      ]
     },
     "metadata": {},
     "output_type": "display_data"
    }
   ],
   "source": [
    "plt.plot(losses)"
   ]
  },
  {
   "cell_type": "code",
   "execution_count": null,
   "id": "39e33d6f-abf7-41b0-b2a2-bde1573afa02",
   "metadata": {},
   "outputs": [],
   "source": []
  }
 ],
 "metadata": {
  "kernelspec": {
   "display_name": "Python 3 (ipykernel)",
   "language": "python",
   "name": "python3"
  },
  "language_info": {
   "codemirror_mode": {
    "name": "ipython",
    "version": 3
   },
   "file_extension": ".py",
   "mimetype": "text/x-python",
   "name": "python",
   "nbconvert_exporter": "python",
   "pygments_lexer": "ipython3",
   "version": "3.10.14"
  }
 },
 "nbformat": 4,
 "nbformat_minor": 5
}
